{
 "cells": [
  {
   "cell_type": "markdown",
   "metadata": {},
   "source": [
    "## Notebook For SQL Next Steps Workshop Sp20"
   ]
  },
  {
   "cell_type": "code",
   "execution_count": null,
   "metadata": {},
   "outputs": [],
   "source": [
    "import pandas as pd\n",
    "import sqlite3\n",
    "conn = sqlite3.connect('chinook.db')"
   ]
  },
  {
   "cell_type": "markdown",
   "metadata": {},
   "source": [
    "## Review"
   ]
  },
  {
   "cell_type": "markdown",
   "metadata": {},
   "source": [
    "### Select, From, Where <a name=\"\"></a> "
   ]
  },
  {
   "cell_type": "code",
   "execution_count": null,
   "metadata": {},
   "outputs": [],
   "source": [
    "#Demo\n",
    "#How to output a table\n",
    "print(pd.read_sql_query(\"SELECT * FROM customers\", conn))"
   ]
  },
  {
   "cell_type": "code",
   "execution_count": null,
   "metadata": {},
   "outputs": [],
   "source": [
    "#Demo\n",
    "print(pd.read_sql_query(\"SELECT CustomerId FROM customers WHERE FirstName = 'Tim'\", conn))"
   ]
  },
  {
   "cell_type": "code",
   "execution_count": null,
   "metadata": {},
   "outputs": [],
   "source": [
    "#demo\n",
    "print(pd.read_sql_query(\"SELECT FirstName, LastName FROM customers WHERE State = 'CA'\", conn))"
   ]
  },
  {
   "cell_type": "code",
   "execution_count": null,
   "metadata": {},
   "outputs": [],
   "source": [
    "#try it yourself! \n",
    "#Select customer id from customers table for customers that live in Prague\n",
    "print(pd.read_sql_query(..., conn))"
   ]
  },
  {
   "cell_type": "markdown",
   "metadata": {},
   "source": [
    "### Group By, Having <a name=\"\"></a> "
   ]
  },
  {
   "cell_type": "code",
   "execution_count": null,
   "metadata": {},
   "outputs": [],
   "source": [
    "#demo\n",
    "print(pd.read_sql_query(\"SELECT Country, count(*) FROM customers GROUP BY Country\", conn))"
   ]
  },
  {
   "cell_type": "code",
   "execution_count": null,
   "metadata": {},
   "outputs": [],
   "source": [
    "#try it yourself! \n",
    "#Select countries where there are more than 3 customers from that country\n",
    "print(pd.read_sql_query(..., conn))"
   ]
  },
  {
   "cell_type": "markdown",
   "metadata": {},
   "source": [
    "### Order By, Limit <a name=\"\"></a> "
   ]
  },
  {
   "cell_type": "code",
   "execution_count": null,
   "metadata": {},
   "outputs": [],
   "source": [
    "#Demo \n",
    "print(pd.read_sql_query(\"SELECT FirstName, LastName FROM customers ORDER BY FirstName ASC LIMIT 10\", conn))"
   ]
  },
  {
   "cell_type": "code",
   "execution_count": null,
   "metadata": {},
   "outputs": [],
   "source": [
    "print(pd.read_sql_query(\"SELECT * FROM customers\", conn))"
   ]
  },
  {
   "cell_type": "markdown",
   "metadata": {},
   "source": [
    "## Subqueries"
   ]
  },
  {
   "cell_type": "code",
   "execution_count": null,
   "metadata": {
    "scrolled": true
   },
   "outputs": [],
   "source": [
    "#Demo\n",
    "#I want to find all the individuals with a Customer Id below 10.\n",
    "print(pd.read_sql_query(\"SELECT * FROM customers WHERE CustomerId IN (SELECT CustomerId FROM customers WHERE CustomerId < 10)\", conn))"
   ]
  },
  {
   "cell_type": "code",
   "execution_count": null,
   "metadata": {},
   "outputs": [],
   "source": [
    "#try it yourself!\n",
    "#Find all of the employees whose Title is a Sales Support Agent!\n",
    "print(pd.read_sql_query(..., conn))"
   ]
  },
  {
   "cell_type": "markdown",
   "metadata": {},
   "source": [
    "## Joins <a name=\"\"></a> "
   ]
  },
  {
   "cell_type": "markdown",
   "metadata": {},
   "source": [
    "## Inner Join <a name=\"\"></a> "
   ]
  },
  {
   "cell_type": "code",
   "execution_count": null,
   "metadata": {
    "scrolled": true
   },
   "outputs": [],
   "source": [
    "#Demo \n",
    "print(pd.read_sql(\"\"\"SELECT * \n",
    "FROM invoices AS i \n",
    "INNER JOIN customers AS c \n",
    "ON i.CustomerId = c.CustomerId LIMIT 5\"\"\", conn))"
   ]
  },
  {
   "cell_type": "code",
   "execution_count": null,
   "metadata": {},
   "outputs": [],
   "source": [
    "#try it yourself!\n",
    "#Join invoice and invoice items based on invoiceid\n",
    "print(pd.read_sql_query(..., conn))"
   ]
  },
  {
   "cell_type": "markdown",
   "metadata": {},
   "source": [
    "## Inner Join <a name=\"\"></a> "
   ]
  },
  {
   "cell_type": "code",
   "execution_count": null,
   "metadata": {
    "scrolled": true
   },
   "outputs": [],
   "source": [
    "print(pd.read_sql(\"\"\"SELECT *FROM invoices AS i LEFT JOIN customers AS c ON i.CustomerId = c.CustomerId LIMIT 10\"\"\", conn))"
   ]
  },
  {
   "cell_type": "markdown",
   "metadata": {},
   "source": [
    "## Left Join"
   ]
  },
  {
   "cell_type": "code",
   "execution_count": null,
   "metadata": {},
   "outputs": [],
   "source": [
    "#Demo\n",
    "print(pd.read_sql(\"SELECT * FROM playlist_track\", conn))"
   ]
  },
  {
   "cell_type": "code",
   "execution_count": null,
   "metadata": {
    "scrolled": true
   },
   "outputs": [],
   "source": [
    "#Demo \n",
    "print(pd.read_sql(\"\"\"SELECT * \n",
    "FROM playlists AS p1 \n",
    "INNER JOIN playlist_track AS p2\n",
    "ON p1.PlaylistId = p2.PlaylistId LIMIT 50\"\"\", conn))"
   ]
  },
  {
   "cell_type": "code",
   "execution_count": null,
   "metadata": {},
   "outputs": [],
   "source": [
    "#try it yourself!\n",
    "#Join playlist_track and tracks in a left join based on TrackId!\n",
    "print(pd.read_sql(..., conn))"
   ]
  },
  {
   "cell_type": "markdown",
   "metadata": {},
   "source": [
    "## Cases"
   ]
  },
  {
   "cell_type": "code",
   "execution_count": null,
   "metadata": {},
   "outputs": [],
   "source": [
    "#Demo \n",
    "print(pd.read_sql_query(\"SELECT CASE WHEN state IS NOT NULL THEN 'yes' END AS 'has_state', count(*) AS total FROM Customers\", conn))"
   ]
  },
  {
   "cell_type": "code",
   "execution_count": null,
   "metadata": {},
   "outputs": [],
   "source": []
  }
 ],
 "metadata": {
  "kernelspec": {
   "display_name": "Python 3",
   "language": "python",
   "name": "python3"
  },
  "language_info": {
   "codemirror_mode": {
    "name": "ipython",
    "version": 3
   },
   "file_extension": ".py",
   "mimetype": "text/x-python",
   "name": "python",
   "nbconvert_exporter": "python",
   "pygments_lexer": "ipython3",
   "version": "3.6.4"
  }
 },
 "nbformat": 4,
 "nbformat_minor": 4
}

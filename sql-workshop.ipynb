{
 "cells": [
  {
   "cell_type": "markdown",
   "metadata": {},
   "source": [
    "## Notebook For SQL Next Steps Workshop Sp20"
   ]
  },
  {
   "cell_type": "code",
   "execution_count": null,
   "metadata": {},
   "outputs": [],
   "source": [
    "import sqlite3\n",
    "conn = sqlite3.connect('chinook.db')"
   ]
  },
  {
   "cell_type": "markdown",
   "metadata": {},
   "source": [
    "## Review"
   ]
  },
  {
   "cell_type": "markdown",
   "metadata": {},
   "source": [
    "### Select, From, Where <a name=\"\"></a> "
   ]
  },
  {
   "cell_type": "code",
   "execution_count": 130,
   "metadata": {},
   "outputs": [
    {
     "name": "stdout",
     "output_type": "stream",
     "text": [
      "   CustomerId\n",
      "0          19\n"
     ]
    }
   ],
   "source": [
    "#Demo\n",
    "print(pd.read_sql_query(\"SELECT CustomerId FROM customers WHERE FirstName = 'Tim'\", conn))"
   ]
  },
  {
   "cell_type": "code",
   "execution_count": 63,
   "metadata": {},
   "outputs": [
    {
     "name": "stdout",
     "output_type": "stream",
     "text": [
      "  FirstName LastName\n",
      "0     Frank   Harris\n",
      "1       Tim    Goyer\n",
      "2       Dan   Miller\n"
     ]
    }
   ],
   "source": [
    "#demo\n",
    "print(pd.read_sql_query(\"SELECT FirstName, LastName FROM customers WHERE State = 'CA'\", conn))"
   ]
  },
  {
   "cell_type": "code",
   "execution_count": 69,
   "metadata": {},
   "outputs": [
    {
     "name": "stdout",
     "output_type": "stream",
     "text": [
      "   CustomerId  FirstName     LastName\n",
      "0           5  František  Wichterlová\n",
      "1           6     Helena         Holý\n"
     ]
    }
   ],
   "source": [
    "#try it yourself! \n",
    "#Select customer id from customers table for customers that live in Prague\n",
    "print(pd.read_sql_query(..., conn))"
   ]
  },
  {
   "cell_type": "markdown",
   "metadata": {},
   "source": [
    "### Group By, Having <a name=\"\"></a> "
   ]
  },
  {
   "cell_type": "code",
   "execution_count": 131,
   "metadata": {},
   "outputs": [
    {
     "name": "stdout",
     "output_type": "stream",
     "text": [
      "           Country  count(*)\n",
      "0        Argentina         1\n",
      "1        Australia         1\n",
      "2          Austria         1\n",
      "3          Belgium         1\n",
      "4           Brazil         5\n",
      "5           Canada         8\n",
      "6            Chile         1\n",
      "7   Czech Republic         2\n",
      "8          Denmark         1\n",
      "9          Finland         1\n",
      "10          France         5\n",
      "11         Germany         4\n",
      "12         Hungary         1\n",
      "13           India         2\n",
      "14         Ireland         1\n",
      "15           Italy         1\n",
      "16     Netherlands         1\n",
      "17          Norway         1\n",
      "18          Poland         1\n",
      "19        Portugal         2\n",
      "20           Spain         1\n",
      "21          Sweden         1\n",
      "22             USA        13\n",
      "23  United Kingdom         3\n"
     ]
    }
   ],
   "source": [
    "#demo\n",
    "print(pd.read_sql_query(\"SELECT Country, count(*) FROM customers GROUP BY Country\", conn))"
   ]
  },
  {
   "cell_type": "code",
   "execution_count": null,
   "metadata": {},
   "outputs": [],
   "source": [
    "#try it yourself! \n",
    "#Select countries where there are more than 3 customers from that country\n",
    "print(pd.read_sql_query(..., conn))"
   ]
  },
  {
   "cell_type": "markdown",
   "metadata": {},
   "source": [
    "### Order By, Limit <a name=\"\"></a> "
   ]
  },
  {
   "cell_type": "code",
   "execution_count": 132,
   "metadata": {},
   "outputs": [
    {
     "name": "stdout",
     "output_type": "stream",
     "text": [
      "   FirstName   LastName\n",
      "0      Aaron   Mitchell\n",
      "1  Alexandre      Rocha\n",
      "2     Astrid     Gruber\n",
      "3      Bjørn     Hansen\n",
      "4    Camille    Bernard\n",
      "5       Daan    Peeters\n",
      "6        Dan     Miller\n",
      "7      Diego  Gutiérrez\n",
      "8  Dominique   Lefebvre\n",
      "9    Eduardo    Martins\n"
     ]
    }
   ],
   "source": [
    "#Demo \n",
    "print(pd.read_sql_query(\"SELECT FirstName, LastName FROM customers ORDER BY FirstName ASC LIMIT 10\", conn))"
   ]
  },
  {
   "cell_type": "markdown",
   "metadata": {},
   "source": [
    "## Subqueries"
   ]
  },
  {
   "cell_type": "code",
   "execution_count": null,
   "metadata": {},
   "outputs": [],
   "source": []
  },
  {
   "cell_type": "markdown",
   "metadata": {},
   "source": [
    "## Joins <a name=\"\"></a> "
   ]
  },
  {
   "cell_type": "markdown",
   "metadata": {},
   "source": [
    "## Inner Join <a name=\"\"></a> "
   ]
  },
  {
   "cell_type": "code",
   "execution_count": 133,
   "metadata": {},
   "outputs": [
    {
     "name": "stdout",
     "output_type": "stream",
     "text": [
      "   InvoiceId  CustomerId          InvoiceDate  \\\n",
      "0         98           1  2010-03-11 00:00:00   \n",
      "1        121           1  2010-06-13 00:00:00   \n",
      "2        143           1  2010-09-15 00:00:00   \n",
      "3        195           1  2011-05-06 00:00:00   \n",
      "4        316           1  2012-10-27 00:00:00   \n",
      "\n",
      "                    BillingAddress          BillingCity BillingState  \\\n",
      "0  Av. Brigadeiro Faria Lima, 2170  São José dos Campos           SP   \n",
      "1  Av. Brigadeiro Faria Lima, 2170  São José dos Campos           SP   \n",
      "2  Av. Brigadeiro Faria Lima, 2170  São José dos Campos           SP   \n",
      "3  Av. Brigadeiro Faria Lima, 2170  São José dos Campos           SP   \n",
      "4  Av. Brigadeiro Faria Lima, 2170  São José dos Campos           SP   \n",
      "\n",
      "  BillingCountry BillingPostalCode  Total  CustomerId  ...  \\\n",
      "0         Brazil         12227-000   3.98           1  ...   \n",
      "1         Brazil         12227-000   3.96           1  ...   \n",
      "2         Brazil         12227-000   5.94           1  ...   \n",
      "3         Brazil         12227-000   0.99           1  ...   \n",
      "4         Brazil         12227-000   1.98           1  ...   \n",
      "\n",
      "                                            Company  \\\n",
      "0  Embraer - Empresa Brasileira de Aeronáutica S.A.   \n",
      "1  Embraer - Empresa Brasileira de Aeronáutica S.A.   \n",
      "2  Embraer - Empresa Brasileira de Aeronáutica S.A.   \n",
      "3  Embraer - Empresa Brasileira de Aeronáutica S.A.   \n",
      "4  Embraer - Empresa Brasileira de Aeronáutica S.A.   \n",
      "\n",
      "                           Address                 City State Country  \\\n",
      "0  Av. Brigadeiro Faria Lima, 2170  São José dos Campos    SP  Brazil   \n",
      "1  Av. Brigadeiro Faria Lima, 2170  São José dos Campos    SP  Brazil   \n",
      "2  Av. Brigadeiro Faria Lima, 2170  São José dos Campos    SP  Brazil   \n",
      "3  Av. Brigadeiro Faria Lima, 2170  São José dos Campos    SP  Brazil   \n",
      "4  Av. Brigadeiro Faria Lima, 2170  São José dos Campos    SP  Brazil   \n",
      "\n",
      "  PostalCode               Phone                 Fax                 Email  \\\n",
      "0  12227-000  +55 (12) 3923-5555  +55 (12) 3923-5566  luisg@embraer.com.br   \n",
      "1  12227-000  +55 (12) 3923-5555  +55 (12) 3923-5566  luisg@embraer.com.br   \n",
      "2  12227-000  +55 (12) 3923-5555  +55 (12) 3923-5566  luisg@embraer.com.br   \n",
      "3  12227-000  +55 (12) 3923-5555  +55 (12) 3923-5566  luisg@embraer.com.br   \n",
      "4  12227-000  +55 (12) 3923-5555  +55 (12) 3923-5566  luisg@embraer.com.br   \n",
      "\n",
      "  SupportRepId  \n",
      "0            3  \n",
      "1            3  \n",
      "2            3  \n",
      "3            3  \n",
      "4            3  \n",
      "\n",
      "[5 rows x 22 columns]\n"
     ]
    }
   ],
   "source": [
    "#Demo \n",
    "print(pd.read_sql(\"\"\"SELECT *FROM invoices AS i INNER JOIN customers AS c ON i.CustomerId = c.CustomerId LIMIT 5\"\"\", conn))"
   ]
  },
  {
   "cell_type": "code",
   "execution_count": 127,
   "metadata": {},
   "outputs": [],
   "source": [
    "#try it yourself!\n",
    "#Join invoice and invoice items based on invoiceid\n",
    "print(pd.read_sql_query(..., conn))"
   ]
  },
  {
   "cell_type": "markdown",
   "metadata": {},
   "source": [
    "## Inner Join <a name=\"\"></a> "
   ]
  },
  {
   "cell_type": "code",
   "execution_count": 124,
   "metadata": {},
   "outputs": [
    {
     "name": "stdout",
     "output_type": "stream",
     "text": [
      "   InvoiceId  CustomerId          InvoiceDate           BillingAddress  \\\n",
      "0          1           2  2009-01-01 00:00:00  Theodor-Heuss-Straße 34   \n",
      "1          2           4  2009-01-02 00:00:00         Ullevålsveien 14   \n",
      "2          3           8  2009-01-03 00:00:00          Grétrystraat 63   \n",
      "3          4          14  2009-01-06 00:00:00           8210 111 ST NW   \n",
      "4          5          23  2009-01-11 00:00:00          69 Salem Street   \n",
      "5          6          37  2009-01-19 00:00:00         Berger Straße 10   \n",
      "6          7          38  2009-02-01 00:00:00      Barbarossastraße 19   \n",
      "7          8          40  2009-02-01 00:00:00           8, Rue Hanovre   \n",
      "8          9          42  2009-02-02 00:00:00   9, Place Louis Barthou   \n",
      "9         10          46  2009-02-03 00:00:00         3 Chatham Street   \n",
      "\n",
      "  BillingCity BillingState BillingCountry BillingPostalCode  Total  \\\n",
      "0   Stuttgart         None        Germany             70174   1.98   \n",
      "1        Oslo         None         Norway              0171   3.96   \n",
      "2    Brussels         None        Belgium              1000   5.94   \n",
      "3    Edmonton           AB         Canada           T6G 2C7   8.91   \n",
      "4      Boston           MA            USA              2113  13.86   \n",
      "5   Frankfurt         None        Germany             60316   0.99   \n",
      "6      Berlin         None        Germany             10779   1.98   \n",
      "7       Paris         None         France             75002   1.98   \n",
      "8    Bordeaux         None         France             33000   3.96   \n",
      "9      Dublin       Dublin        Ireland              None   5.94   \n",
      "\n",
      "   CustomerId  ... Company                  Address       City   State  \\\n",
      "0           2  ...    None  Theodor-Heuss-Straße 34  Stuttgart    None   \n",
      "1           4  ...    None         Ullevålsveien 14       Oslo    None   \n",
      "2           8  ...    None          Grétrystraat 63   Brussels    None   \n",
      "3          14  ...   Telus           8210 111 ST NW   Edmonton      AB   \n",
      "4          23  ...    None          69 Salem Street     Boston      MA   \n",
      "5          37  ...    None         Berger Straße 10  Frankfurt    None   \n",
      "6          38  ...    None      Barbarossastraße 19     Berlin    None   \n",
      "7          40  ...    None           8, Rue Hanovre      Paris    None   \n",
      "8          42  ...    None   9, Place Louis Barthou   Bordeaux    None   \n",
      "9          46  ...    None         3 Chatham Street     Dublin  Dublin   \n",
      "\n",
      "   Country PostalCode               Phone                Fax  \\\n",
      "0  Germany      70174    +49 0711 2842222               None   \n",
      "1   Norway       0171     +47 22 44 22 22               None   \n",
      "2  Belgium       1000    +32 02 219 03 03               None   \n",
      "3   Canada    T6G 2C7   +1 (780) 434-4554  +1 (780) 434-5565   \n",
      "4      USA       2113   +1 (617) 522-1333               None   \n",
      "5  Germany      60316    +49 069 40598889               None   \n",
      "6  Germany      10779     +49 030 2141444               None   \n",
      "7   France      75002  +33 01 47 42 71 71               None   \n",
      "8   France      33000  +33 05 56 96 96 96               None   \n",
      "9  Ireland       None     +353 01 6792424               None   \n",
      "\n",
      "                         Email SupportRepId  \n",
      "0        leonekohler@surfeu.de            5  \n",
      "1        bjorn.hansen@yahoo.no            4  \n",
      "2        daan_peeters@apple.be            4  \n",
      "3           mphilips12@shaw.ca            5  \n",
      "4       johngordon22@yahoo.com            4  \n",
      "5         fzimmermann@yahoo.de            3  \n",
      "6          nschroder@surfeu.de            3  \n",
      "7  dominiquelefebvre@gmail.com            4  \n",
      "8        wyatt.girard@yahoo.fr            3  \n",
      "9         hughoreilly@apple.ie            3  \n",
      "\n",
      "[10 rows x 22 columns]\n"
     ]
    }
   ],
   "source": [
    "\n",
    "print(pd.read_sql(\"\"\"SELECT *FROM invoices AS i LEFT JOIN customers AS c ON i.CustomerId = c.CustomerId LIMIT 10\"\"\", conn))"
   ]
  },
  {
   "cell_type": "markdown",
   "metadata": {},
   "source": [
    "## Cases"
   ]
  },
  {
   "cell_type": "code",
   "execution_count": 134,
   "metadata": {},
   "outputs": [
    {
     "name": "stdout",
     "output_type": "stream",
     "text": [
      "  has_state  total\n",
      "0       yes     59\n"
     ]
    }
   ],
   "source": [
    "#Demo \n",
    "print(pd.read_sql_query(\"SELECT CASE WHEN state IS NOT NULL THEN 'yes' END AS 'has_state', count(*) AS total FROM Customers\", conn))"
   ]
  },
  {
   "cell_type": "code",
   "execution_count": null,
   "metadata": {},
   "outputs": [],
   "source": []
  }
 ],
 "metadata": {
  "kernelspec": {
   "display_name": "Python 3",
   "language": "python",
   "name": "python3"
  },
  "language_info": {
   "codemirror_mode": {
    "name": "ipython",
    "version": 3
   },
   "file_extension": ".py",
   "mimetype": "text/x-python",
   "name": "python",
   "nbconvert_exporter": "python",
   "pygments_lexer": "ipython3",
   "version": "3.7.3"
  }
 },
 "nbformat": 4,
 "nbformat_minor": 4
}
